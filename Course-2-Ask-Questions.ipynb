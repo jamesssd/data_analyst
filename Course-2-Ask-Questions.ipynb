{
 "cells": [
  {
   "cell_type": "markdown",
   "id": "68045957-3b8e-4a50-930e-692bb74fc8a7",
   "metadata": {},
   "source": [
    "# Course 2: Ask Questions to Make Data-Driven Decisions"
   ]
  },
  {
   "cell_type": "markdown",
   "id": "d2d322da-4ff3-4c82-b3ab-65f8b2e57578",
   "metadata": {},
   "source": [
    "## Module 1: Ask Effective Questions\n",
    "\n",
    "### Six Data Analysis Phases\n",
    "1. Ask: Things to ask when attempting to solve a problem\n",
    "   - Define the problem you're trying to solve\n",
    "   - Make sure you fully understand the stakeholder's expectations\n",
    "   - Focus on the actual problem and avoid any distractions\n",
    "   - Collaborate with stakeholders and keep an open line of communication\n",
    "   - Take a step back and see the whole situation in context\n",
    "     __Questions to ask yourself!__\n",
    "     1. Whare my stakeholders saying their problems are?\n",
    "     2. Now that I've identified the issues, how can I help the stakeholders resolve their questions?\n",
    "        \n",
    "2. Prepare: Decide what type of data you need to collect to answer your questions and organize it\n",
    "   - What metrics to use\n",
    "   - Locate data in your database\n",
    "   - Create security measures to protect the data\n",
    "     __Questions to ask yourself!__\n",
    "     - What do I need to figure out how to solve this problem?\n",
    "     - What research do I need to do?\n",
    "       \n",
    "3. Process: Clean your data to eliminate any possible errors, inaccuracies, or inconsistencies\n",
    "   - Using spreadsheet functions to find incorrectly entered data\n",
    "   - Using SQL functions to check for extra spaces\n",
    "   - Removing repeated entries\n",
    "   - Checking as much as possible for bias in the data\n",
    "     __Questions to ask yourself!__\n",
    "     - What data errors or inaccuracies might get in my way of getting the best possible answer to the problem I am trying to solve?\n",
    "     - How can I clean my data so the information I have is more consistent?\n",
    "       \n",
    "4. Analyze: Sort and format your data to make it easier to read\n",
    "   - Perform calculations\n",
    "   - Combine data from multiple sources\n",
    "   - Create tables with your results\n",
    "     __Questions to ask yourself!__\n",
    "     - What story is my data telling me?\n",
    "     - How will my data help me solve this problem?\n",
    "     - Who needs my company's product or service? What type of person is most likely to use it?\n",
    "       \n",
    "5. Share:\n",
    "   -\n",
    "6. Act:\n",
    "    -"
   ]
  },
  {
   "cell_type": "markdown",
   "id": "f53633fa-cd76-4221-8271-cb88d1659d54",
   "metadata": {},
   "source": [
    "## Module 2: Make Data-Driven Decisions"
   ]
  },
  {
   "cell_type": "markdown",
   "id": "13281a19-2e6b-478d-94ba-1f19807f8169",
   "metadata": {},
   "source": [
    "## Module 3: More Spreadsheet Basics"
   ]
  },
  {
   "cell_type": "markdown",
   "id": "80d941d4-f683-4593-aa04-2fecdf0e1157",
   "metadata": {},
   "source": [
    "## Module 4: Always Remember the Stakeholder"
   ]
  }
 ],
 "metadata": {
  "kernelspec": {
   "display_name": "",
   "name": ""
  },
  "language_info": {
   "name": ""
  }
 },
 "nbformat": 4,
 "nbformat_minor": 5
}
